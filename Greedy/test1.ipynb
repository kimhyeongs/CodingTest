{
 "cells": [
  {
   "cell_type": "markdown",
   "metadata": {},
   "source": [
    "그리드 => 현재 가장 좋은 것만을 고르는 알고리즘 ( 당장의 상황 기준을 확장 )\n",
    "많은 수의 문제가 정렬을 활용하여 이루어짐\n",
    "\n",
    "1. 좋은 순서 대로 정렬을 나타냄\n",
    "2. 좋은 순서로 정렬된 리스트를 이용한 조건식을 통해 문제를 풀어나감"
   ]
  },
  {
   "cell_type": "markdown",
   "metadata": {},
   "source": [
    "백준 11047번"
   ]
  },
  {
   "cell_type": "code",
   "execution_count": null,
   "metadata": {},
   "outputs": [],
   "source": [
    "n, k = map(int,input().split())\n",
    "\n",
    "coin = []\n",
    "for i in range(n):\n",
    "    data = input()\n",
    "    data = int(data)\n",
    "    coin.append(data)\n",
    "    i+=1\n",
    "coin.reverse()\n",
    "count = 0\n",
    "\n",
    "for coins in coin :\n",
    "    count += k//coins\n",
    "    k %= coins\n",
    "\n",
    "print(count)\n"
   ]
  },
  {
   "cell_type": "markdown",
   "metadata": {},
   "source": [
    "백준 1931번 ( 복습 필요 )\n",
    "정렬을 통해 시작 순서와 끝나는 순서로 정렬 하여 사용"
   ]
  },
  {
   "cell_type": "code",
   "execution_count": null,
   "metadata": {},
   "outputs": [],
   "source": [
    "n = int(input())\n",
    "room = []\n",
    "\n",
    "for i in range(n):\n",
    "    a, b = map(int, input().split())\n",
    "    room.append([a, b])\n",
    "\n",
    "room.sort(key = lambda x: x[0])\n",
    "room.sort(key = lambda x: x[1])\n",
    "print(room)\n",
    "\n",
    "cnt = 1\n",
    "end = room[0][1]\n",
    "for i in range(1, n):\n",
    "    if room[i][0] >= end:\n",
    "        cnt += 1\n",
    "        end = room[i][1]\n",
    "\n",
    "print(cnt)"
   ]
  },
  {
   "cell_type": "markdown",
   "metadata": {},
   "source": [
    "백준 2217번"
   ]
  },
  {
   "cell_type": "code",
   "execution_count": 36,
   "metadata": {},
   "outputs": [
    {
     "name": "stdout",
     "output_type": "stream",
     "text": [
      "16\n"
     ]
    }
   ],
   "source": [
    "n = int(input())\n",
    "arr = []\n",
    "\n",
    "for i in range(n):\n",
    "    a = int(input())\n",
    "    arr.append(a)\n",
    "\n",
    "arr.sort(reverse=True)\n",
    "w = 0\n",
    "count = 1\n",
    "\n",
    "for k in range(n):\n",
    "    if arr[k]*count > w :\n",
    "        w = arr[k]*count\n",
    "        count += 1\n",
    "\n",
    "print(w)"
   ]
  },
  {
   "cell_type": "code",
   "execution_count": null,
   "metadata": {},
   "outputs": [],
   "source": [
    "n = int(input())\n",
    "k = []\n",
    "for _ in range(n):\n",
    "    k.append(int(input()))\n",
    "k.sort()\n",
    "\n",
    "answers = []\n",
    "for x in k:\n",
    "    answers.append(x*n)\n",
    "    n -= 1\n",
    "print(max(answers))\n",
    "    "
   ]
  },
  {
   "cell_type": "markdown",
   "metadata": {},
   "source": [
    "백준 1744번\n",
    "4\n",
    "-1\n",
    "2\n",
    "1\n",
    "3"
   ]
  },
  {
   "cell_type": "code",
   "execution_count": 44,
   "metadata": {},
   "outputs": [
    {
     "name": "stdout",
     "output_type": "stream",
     "text": [
      "[-1, 2, 1, 3]\n",
      "[5, 3, 9, 6]\n",
      "9\n"
     ]
    }
   ],
   "source": [
    "n = int(input())\n",
    "k = []\n",
    "for _ in range(n):\n",
    "    k.append(int(input()))\n",
    "print(k)\n",
    "\n",
    "answers = [sum(k)]\n",
    "for _ in range(n-1):\n",
    "    i=0\n",
    "    a = k\n",
    "    b = a[i]*a[i+1]\n",
    "    a.append(b)\n",
    "    a.remove(a[i])\n",
    "    a.remove(a[i+1])\n",
    "    answers.append(sum(a))\n",
    "    i+=1\n",
    "\n",
    "print(answers)\n",
    "print(max(answers))"
   ]
  }
 ],
 "metadata": {
  "kernelspec": {
   "display_name": "Python 3",
   "language": "python",
   "name": "python3"
  },
  "language_info": {
   "codemirror_mode": {
    "name": "ipython",
    "version": 3
   },
   "file_extension": ".py",
   "mimetype": "text/x-python",
   "name": "python",
   "nbconvert_exporter": "python",
   "pygments_lexer": "ipython3",
   "version": "3.9.6"
  },
  "orig_nbformat": 4
 },
 "nbformat": 4,
 "nbformat_minor": 2
}
