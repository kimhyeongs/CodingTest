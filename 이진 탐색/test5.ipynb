{
 "cells": [
  {
   "cell_type": "markdown",
   "metadata": {},
   "source": [
    "### 이진 탐색 </br>\n",
    "\n",
    "- mid + 1, mid - 1 중요"
   ]
  },
  {
   "cell_type": "code",
   "execution_count": null,
   "metadata": {},
   "outputs": [],
   "source": [
    "def binary_search(array, target, start, end):\n",
    "    if start > end:\n",
    "        return None\n",
    "    \n",
    "    mid = ( start + end ) // 2\n",
    "\n",
    "    if array[mid] == target:\n",
    "        return mid\n",
    "    \n",
    "    if array[mid] > target:\n",
    "        return binary_search(array, target, start, mid - 1)\n",
    "    \n",
    "    if array[mid] < target:\n",
    "        return binary_search(array, target, mid + 1, start)"
   ]
  },
  {
   "cell_type": "markdown",
   "metadata": {},
   "source": [
    "### 부품 찾기 ( P.197 )"
   ]
  },
  {
   "cell_type": "code",
   "execution_count": 2,
   "metadata": {},
   "outputs": [
    {
     "name": "stdout",
     "output_type": "stream",
     "text": [
      "no yes yes "
     ]
    }
   ],
   "source": [
    "n = int(input())\n",
    "n_array = list(map(int, input().split()))\n",
    "n_array.sort()\n",
    "\n",
    "m = int(input())\n",
    "m_array = list(map(int, input().split()))\n",
    "\n",
    "def binary_search(array, target, start, end):\n",
    "    if start > end:\n",
    "        return print('no', end=' ')\n",
    "    \n",
    "    mid = ( start + end )//2\n",
    "\n",
    "    if array[mid] == target:\n",
    "        return print('yes', end=' ')\n",
    "\n",
    "    if array[mid] > target:\n",
    "        return binary_search(array, target, start, mid - 1)\n",
    "    \n",
    "    if array[mid] < target:\n",
    "        return binary_search(array, target, mid + 1, end)\n",
    "    \n",
    "for order in m_array:\n",
    "    binary_search(n_array, order, 0, n-1)    "
   ]
  },
  {
   "cell_type": "markdown",
   "metadata": {},
   "source": [
    "### 떡볶이 떡 만들기 ( P.201 ) </br>\n",
    "- 파라메트릭 서치 문제 -> 최적화 문제를 결정 문제로 변경 ( 조건에 만족하는지 여부애 따른 결정 )\n"
   ]
  },
  {
   "cell_type": "code",
   "execution_count": 5,
   "metadata": {},
   "outputs": [
    {
     "name": "stdout",
     "output_type": "stream",
     "text": [
      "15\n"
     ]
    }
   ],
   "source": [
    "n, m = map(int, input().split())\n",
    "array = list(map(int, input().split()))\n",
    "heights = []\n",
    "\n",
    "for i in range(1, max(array)+1):\n",
    "    heights.append(i)\n",
    "heights.sort(reverse=True)\n",
    "\n",
    "def cutting(array, height):\n",
    "    result = 0\n",
    "    for i in range(len(array)):\n",
    "        if array[i] - height > 0:\n",
    "            result += array[i] - height\n",
    "\n",
    "    return result  \n",
    "\n",
    "for height in heights:\n",
    "    if cutting(array, height) >= m:\n",
    "        print(height) \n",
    "        break\n",
    "          "
   ]
  },
  {
   "cell_type": "code",
   "execution_count": null,
   "metadata": {},
   "outputs": [],
   "source": [
    "n, m = map(int, input().split())\n",
    "array = list(map(int, input().split()))\n",
    "\n",
    "start = 0\n",
    "end = max(array)\n",
    "\n",
    "result = 0\n",
    "while start <= end:\n",
    "    total = 0\n",
    "    mid = ( start + end ) // 2\n",
    "    # 잘랐을때 떡의 양 계산\n",
    "    for x in array:\n",
    "        if x - mid > 0:\n",
    "            total += ( x - mid )\n",
    "    # 자른 떡의 양이 부족할떄\n",
    "    if total < m:\n",
    "        end = mid - 1\n",
    "\n",
    "    # 자른 떡의 양이 충분한 경우\n",
    "    else:\n",
    "        result = mid # result에 기록\n",
    "        start = mid + 1\n",
    "\n",
    "print(result)"
   ]
  }
 ],
 "metadata": {
  "kernelspec": {
   "display_name": "Python 3",
   "language": "python",
   "name": "python3"
  },
  "language_info": {
   "codemirror_mode": {
    "name": "ipython",
    "version": 3
   },
   "file_extension": ".py",
   "mimetype": "text/x-python",
   "name": "python",
   "nbconvert_exporter": "python",
   "pygments_lexer": "ipython3",
   "version": "3.9.6"
  },
  "orig_nbformat": 4
 },
 "nbformat": 4,
 "nbformat_minor": 2
}
