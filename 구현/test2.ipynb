{
 "cells": [
  {
   "cell_type": "markdown",
   "metadata": {},
   "source": [
    ">### 구현\n",
    ">>- 완전 탐색, 시뮬레이션\n",
    ">>- list int형 기준: 1,000(4KB) 1,000,000(4MB) 10,000,000(40MB)"
   ]
  },
  {
   "cell_type": "markdown",
   "metadata": {},
   "source": [
    ">### 왕실의 나이트 ( P 115 )\n",
    ">>ord: chr -> int"
   ]
  },
  {
   "cell_type": "code",
   "execution_count": 4,
   "metadata": {},
   "outputs": [
    {
     "name": "stdout",
     "output_type": "stream",
     "text": [
      "2\n"
     ]
    }
   ],
   "source": [
    "input_data = input()\n",
    "row = int(input_data[1])\n",
    "column = int(ord(input_data[0])-ord('a'))+1\n",
    "result = 0\n",
    "\n",
    "steps = [(-2,-1),(-2,1),(-1,-2),(-1,2),(1,-2),(1,2),(2,-1),(2,1)]\n",
    "\n",
    "for step in steps :\n",
    "    next_row = row + step[0]\n",
    "    next_column = column + step[1]\n",
    "\n",
    "    if next_row >= 1 and next_row <= 8 and next_column >= 1 and next_column <= 8:\n",
    "        result += 1\n",
    "\n",
    "print(result)"
   ]
  },
  {
   "cell_type": "markdown",
   "metadata": {},
   "source": [
    ">### 게임 개발 ( P.118 )"
   ]
  },
  {
   "cell_type": "code",
   "execution_count": 10,
   "metadata": {},
   "outputs": [],
   "source": [
    "n,m = map(int,input().split())\n",
    "x,y,z = map(int,input().split())\n",
    "arr = []\n",
    "count = 1\n",
    "k = 0 # 본 방향 수 저장\n",
    "\n",
    "for i in range(m):\n",
    "    data = list(map(int,input().split()))\n",
    "    arr.append(data)\n",
    "    data = []\n",
    "\n",
    "steps = [(0,-1),(1,0),(0,1),(-1,0)]\n",
    "\n",
    "while True :\n",
    "    if z != 3:\n",
    "        a = z+1 # 볼 방향 저장\n",
    "    else:\n",
    "        a = 0 # 3일 경우 0으로 변환\n",
    "\n",
    "    # 이동항 위치 저장\n",
    "    x_1 = x + steps[a][0] \n",
    "    y_1 = y + steps[a][1]\n",
    "\n",
    "    # 이동할 위치가 이동 가능한지 판별\n",
    "    if arr[x_1][y_1] == 0:\n",
    "        # 방문한 위치는 2로 할당\n",
    "        arr[x_1][y_1] = 2\n",
    "        # 이동한 위치에 맞게 기본 값 할당\n",
    "        x = x_1 \n",
    "        y = y_1\n",
    "        z = a\n",
    "        count += 1\n",
    "        k = 0 \n",
    "    else:\n",
    "        # 이동이 불가능 할때 4개 방향을 다 본 경우와 아닌 경우 판별\n",
    "        if k==4: # 4개 방향 다 본 경우\n",
    "            x_1 = x - steps[a][0]\n",
    "            y_1 = y - steps[a][1]\n",
    "            # 4개의 방향을 다 보았을때 보고 있는 방향의 뒤가 바다인지 판별\n",
    "            if arr[x_1][y_1] == 1: # 바다인 경우\n",
    "                break\n",
    "            else: # 바다가 아닌 경우\n",
    "                x = x_1\n",
    "                y = y_1\n",
    "                z = a\n",
    "                k = 0\n",
    "        else: # 4개 방향 다 보지 않은 경우\n",
    "            z = a\n",
    "            k += 1\n",
    "            \n",
    "\n",
    "print(count)            \n",
    "\n",
    "        "
   ]
  },
  {
   "cell_type": "code",
   "execution_count": null,
   "metadata": {},
   "outputs": [],
   "source": [
    "# N, M을 공백을 기준으로 구분하여 입력받기\n",
    "n, m = map(int, input().split())\n",
    "\n",
    "# 방문한 위치를 저장하기 위한 맵을 생성하여 0으로 초기화\n",
    "d = [[0] * m for _ in range(n)]\n",
    "# 현재 캐릭터의 X 좌표, Y 좌표, 방향을 입력받기\n",
    "x, y, direction = map(int, input().split())\n",
    "d[x][y] = 1 # 현재 좌표 방문 처리\n",
    "\n",
    "# 전체 맵 정보를 입력받기\n",
    "array = []\n",
    "for i in range(n):\n",
    "    array.append(list(map(int, input().split())))\n",
    "\n",
    "# 북, 동, 남, 서 방향 정의\n",
    "dx = [-1, 0, 1, 0]\n",
    "dy = [0, 1, 0, -1]\n",
    "\n",
    "# 왼쪽으로 회전\n",
    "def turn_left():\n",
    "    global direction\n",
    "    direction -= 1\n",
    "    if direction == -1:\n",
    "        direction = 3\n",
    "\n",
    "# 시뮬레이션 시작\n",
    "count = 1\n",
    "turn_time = 0\n",
    "while True:\n",
    "    # 왼쪽으로 회전\n",
    "    turn_left()\n",
    "    nx = x + dx[direction]\n",
    "    ny = y + dy[direction]\n",
    "    # 회전한 이후 정면에 가보지 않은 칸이 존재하는 경우 이동\n",
    "    if d[nx][ny] == 0 and array[nx][ny] == 0:\n",
    "        d[nx][ny] = 1\n",
    "        x = nx\n",
    "        y = ny\n",
    "        count += 1\n",
    "        turn_time = 0\n",
    "        continue\n",
    "    # 회전한 이후 정면에 가보지 않은 칸이 없거나 바다인 경우\n",
    "    else:\n",
    "        turn_time += 1\n",
    "    # 네 방향 모두 갈 수 없는 경우\n",
    "    if turn_time == 4:\n",
    "        nx = x - dx[direction]\n",
    "        ny = y - dy[direction]\n",
    "        # 뒤로 갈 수 있다면 이동하기\n",
    "        if array[nx][ny] == 0:\n",
    "            x = nx\n",
    "            y = ny\n",
    "        # 뒤가 바다로 막혀있는 경우\n",
    "        else:\n",
    "            break\n",
    "        turn_time = 0\n",
    "\n",
    "# 정답 출력\n",
    "print(count)\n",
    "\n",
    "# 2차원 배열을 초기화할 때 리스트 컴프리헨션 문법 사용 \n",
    "\n",
    "# direction 변수를 사용할 때 global 키워드 사용\n"
   ]
  }
 ],
 "metadata": {
  "kernelspec": {
   "display_name": "Python 3",
   "language": "python",
   "name": "python3"
  },
  "language_info": {
   "codemirror_mode": {
    "name": "ipython",
    "version": 3
   },
   "file_extension": ".py",
   "mimetype": "text/x-python",
   "name": "python",
   "nbconvert_exporter": "python",
   "pygments_lexer": "ipython3",
   "version": "3.9.6"
  },
  "orig_nbformat": 4
 },
 "nbformat": 4,
 "nbformat_minor": 2
}
