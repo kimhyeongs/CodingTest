{
 "cells": [
  {
   "cell_type": "markdown",
   "metadata": {},
   "source": [
    "### 다이나믹 프로그래밍 </br>\n",
    "-> 큰 문제를 작게 나누고 같은 문제라면 한번 만 구하도록 프로그래밍 </br>\n",
    "1. 탑다운( 하향식 ) - 메모리제이션, 재귀함수 </br>\n",
    "2. 바텀업( 상향식 ) - DP테이블 </br>\n",
    "3. 형식적으로 바텀업 방식을 선호한다 ( 계산 범위가 늘어날 경우 재귀함수의 깊이 오류( recursion depth )가 발생 할 수 있음 ) </br>\n",
    "4. 점화식을 세워 본다 </br>\n",
    "5. i번쨰 경우를 생각해본다 \n"
   ]
  },
  {
   "cell_type": "code",
   "execution_count": null,
   "metadata": {},
   "outputs": [],
   "source": [
    "# 탑다운 방식으로 구현한 피보나치 수열( 메모리제이션 )\n",
    "d = [0] * 100\n",
    "\n",
    "def fibo(x):\n",
    "    if x == 1 or x == 2:\n",
    "        return 1\n",
    "    \n",
    "    if d[x] != 0:\n",
    "        return d[x]\n",
    "    \n",
    "    d[x] = fibo(x - 1) + fibo(x - 2)\n",
    "    return d[x]"
   ]
  },
  {
   "cell_type": "code",
   "execution_count": null,
   "metadata": {},
   "outputs": [],
   "source": [
    "# 바텀업 방식으로 구현한 피보나치 수열( DP테이블 )\n",
    "d = [0] * 100\n",
    "\n",
    "d[1] = 1\n",
    "d[2] = 1\n",
    "n = 99\n",
    "\n",
    "for i in range(3, n + 1):\n",
    "    d[x] = d[x - 1] + d[x - 2]\n",
    "\n",
    "print(d[n])"
   ]
  },
  {
   "cell_type": "markdown",
   "metadata": {},
   "source": [
    "### 1로 만들기 ( P.217 )"
   ]
  },
  {
   "cell_type": "code",
   "execution_count": 5,
   "metadata": {},
   "outputs": [
    {
     "name": "stdout",
     "output_type": "stream",
     "text": [
      "2\n"
     ]
    }
   ],
   "source": [
    "n = int(input())\n",
    "answers = [0] * (n+1)\n",
    "\n",
    "for i in range(1,n+1):\n",
    "      if i * 5 <= n:\n",
    "        if answers[i * 5] == 0:\n",
    "            answers[i * 5] = answers[i] + 1\n",
    "\n",
    "      if i * 3 <= n:\n",
    "        if answers[i * 3] == 0:\n",
    "            answers[i * 3] = answers[i] + 1\n",
    "\n",
    "      if i * 5 <= n:\n",
    "        if answers[i * 2] == 0:\n",
    "            answers[i * 2] = answers[i] + 1\n",
    "\n",
    "      if i + 1 <= n:\n",
    "        if answers[i + 1] == 0:\n",
    "            answers[i + 1] = answers[i] + 1                  \n",
    "\n",
    "print(answers[n])"
   ]
  },
  {
   "cell_type": "code",
   "execution_count": null,
   "metadata": {},
   "outputs": [],
   "source": [
    "x = int(input())\n",
    "\n",
    "d = [0] * 300001\n",
    "\n",
    "for i in range(2, x + 1):\n",
    "    d[i] = d[i-1] + 1\n",
    "\n",
    "    if i % 2 == 0:\n",
    "        d[i] = min(d[i], d[i // 2] + 1)\n",
    "\n",
    "    if i % 3 == 0:\n",
    "        d[i] = min(d[i], d[i // 3] + 1)\n",
    "\n",
    "    if i % 5 == 0:\n",
    "        d[i] = min(d[i], d[i // 5] + 1)\n",
    "\n",
    "print(d[x])                "
   ]
  },
  {
   "cell_type": "markdown",
   "metadata": {},
   "source": [
    "### 개미 전사 ( P.220 )"
   ]
  },
  {
   "cell_type": "code",
   "execution_count": 9,
   "metadata": {},
   "outputs": [
    {
     "name": "stdout",
     "output_type": "stream",
     "text": [
      "8\n"
     ]
    }
   ],
   "source": [
    "n = int(input())\n",
    "array = list(map(int, input().split()))\n",
    "\n",
    "answers = [0] * (n + 1)\n",
    "\n",
    "for i in range(1, n - 1):\n",
    "    answers[i] = array[i - 1]\n",
    "    for j in range(i + 2, n + 1):\n",
    "        answers[i] = max(answers[i], array[i] + array[j - 1])\n",
    "\n",
    "print(max(answers))\n"
   ]
  },
  {
   "cell_type": "code",
   "execution_count": null,
   "metadata": {},
   "outputs": [],
   "source": [
    "# n 별로 최대값을 저장하는 방식\n",
    "\n",
    "n = int(input())\n",
    "array = list(map(int, input().split()))\n",
    "\n",
    "d = [0] * 100\n",
    "\n",
    "d[0] = array[0]\n",
    "d[1] = max(array[0], array[1])\n",
    "for i in range(2, n):\n",
    "    d[i] = max(d[i - 1], d[i - 2] + array[i])\n",
    "\n",
    "print(d[n - 1])"
   ]
  },
  {
   "cell_type": "markdown",
   "metadata": {},
   "source": [
    "### 바닥 공사 ( P.223 ) - 복습 필요"
   ]
  },
  {
   "cell_type": "code",
   "execution_count": null,
   "metadata": {},
   "outputs": [],
   "source": [
    "n = int(input())\n",
    "\n",
    "d = [0] * 1001\n",
    "\n",
    "d[1] = 1\n",
    "d[2] = 3\n",
    "for i in range(3, n + 1):\n",
    "    d[i] = (d[i - 1] + 2 * d[i - 2]) % 796796\n",
    "\n",
    "print(d(n))"
   ]
  }
 ],
 "metadata": {
  "kernelspec": {
   "display_name": "Python 3",
   "language": "python",
   "name": "python3"
  },
  "language_info": {
   "codemirror_mode": {
    "name": "ipython",
    "version": 3
   },
   "file_extension": ".py",
   "mimetype": "text/x-python",
   "name": "python",
   "nbconvert_exporter": "python",
   "pygments_lexer": "ipython3",
   "version": "3.9.6"
  },
  "orig_nbformat": 4
 },
 "nbformat": 4,
 "nbformat_minor": 2
}
