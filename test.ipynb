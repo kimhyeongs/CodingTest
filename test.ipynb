{
 "cells": [
  {
   "cell_type": "markdown",
   "metadata": {},
   "source": [
    "////////// 형변환 //////////\n",
    "\n",
    "-진수\n",
    "%x로 출력하면 16진수(hexadecimal) 소문자로 출력된다.\n",
    "(%o로 출력하면 8진수(octal) 문자열로 출력된다.)\n",
    "\n",
    "-유니코드\n",
    "chr( )는 정수값->문자, ord( )는 문자->정수값 형태로 바꿔주는 서로 반대 방향으로 바꾸어 주는 기능을 한다."
   ]
  },
  {
   "cell_type": "markdown",
   "metadata": {},
   "source": [
    "////////// 자료형 //////////\n",
    "\n",
    "- 정수 : int\n",
    "- 실수 : float\n",
    "- 배열 : list \n",
    "- 튜플 : tuple"
   ]
  },
  {
   "cell_type": "markdown",
   "metadata": {},
   "source": [
    "- 초기 생성 방식 : NXM\n",
    "      for i in range(N):\n",
    "          array.append([])\n",
    "          for j in range(M): \n",
    "              array[i].append(0)\n",
    "\n",
    "      array = [[0]*m for _ in range(n)] "
   ]
  },
  {
   "cell_type": "markdown",
   "metadata": {},
   "source": []
  },
  {
   "cell_type": "markdown",
   "metadata": {},
   "source": []
  },
  {
   "cell_type": "code",
   "execution_count": 24,
   "metadata": {},
   "outputs": [
    {
     "name": "stdout",
     "output_type": "stream",
     "text": [
      "45\n"
     ]
    }
   ],
   "source": [
    "n=int(input())\n",
    "i=1\n",
    "total=0\n",
    "while total<=n:\n",
    "    total+=i \n",
    "    if total>=n:\n",
    "        print(i)\n",
    "        break\n",
    "    else:\n",
    "        i+=1"
   ]
  },
  {
   "cell_type": "code",
   "execution_count": 1,
   "metadata": {},
   "outputs": [],
   "source": [
    "# 369 게임\n",
    "\n",
    "n=int(input())\n",
    "\n",
    "for i in range(1,n+1):\n",
    "    a = i//10\n",
    "    b = i%10\n",
    "    if a == 3 or a == 6 or a == 9 :\n",
    "        if b == 3 or b == 6 or b == 9 :\n",
    "            print('XX',end=' ')\n",
    "        else :\n",
    "            print('X',end=' ')\n",
    "    else:\n",
    "        if b == 3 or b == 6 or b == 9 :\n",
    "            print('X',end=' ')\n",
    "        else :\n",
    "            print(i,end=' ')\n",
    "    i+=1"
   ]
  },
  {
   "cell_type": "code",
   "execution_count": null,
   "metadata": {},
   "outputs": [],
   "source": [
    "# 십자 뒤집기 (CodeUp 6096) --- 복습 필요\n",
    "\n",
    "# 배열 초기화\n",
    "d=[]\n",
    "for i in range(20) :\n",
    "  d.append([])\n",
    "  for j in range(20) : \n",
    "    d[i].append(0)\n",
    "\n",
    "for i in range(19) :\n",
    "  a = input().split()\n",
    "  for j in range(19) :\n",
    "    d[i+1][j+1] = int(a[j])\n",
    "\n",
    "n = int(input())\n",
    "for i in range(n) :\n",
    "  x,y=input().split()\n",
    "  x=int(x)\n",
    "  y=int(y)\n",
    "  for j in range(1, 20) :\n",
    "    if d[j][y]==0 :\n",
    "      d[j][y]=1\n",
    "    else :\n",
    "      d[j][y]=0\n",
    "\n",
    "    if d[x][j]==0 :\n",
    "      d[x][j]=1\n",
    "    else :\n",
    "      d[x][j]=0\n",
    "\n",
    "for i in range(1, 20) :\n",
    "  for j in range(1, 20) :\n",
    "    print(d[i][j], end=' ')\n",
    "  print()\n"
   ]
  },
  {
   "cell_type": "code",
   "execution_count": null,
   "metadata": {},
   "outputs": [],
   "source": [
    "# 설탕 과자 뽑기 (CodeUp 6097)\n",
    "\n",
    "# 격자판 배열 만들기\n",
    "w,h = input().split()\n",
    "w = int(w)\n",
    "h = int(h)\n",
    "\n",
    "wh = []\n",
    "for i in range(w):\n",
    "  wh.append([])\n",
    "  for j in range(h): \n",
    "    wh[i].append(0)\n",
    "\n",
    "n = int(input())\n",
    "\n",
    "# 막대 배열 초기화\n",
    "idxy = []\n",
    "for i in range(n):\n",
    "  idxy.append([])\n",
    "  for j in range(4): \n",
    "    idxy[i].append(0)\n",
    "\n",
    "# 막대 배열 입력 받기\n",
    "for i in range(n):\n",
    "  a = input().split()\n",
    "  for j in range(4):\n",
    "    idxy[i][j] = int(a[j])\n",
    "  \n",
    "# 문제 풀이\n",
    "for i in range(n):\n",
    "  \n"
   ]
  },
  {
   "cell_type": "code",
   "execution_count": 9,
   "metadata": {},
   "outputs": [
    {
     "name": "stdout",
     "output_type": "stream",
     "text": [
      "[[0, 0, 0, 0], [0, 0, 0, 0], [0, 0, 0, 0], [0, 0, 0, 0], [0, 0, 0, 0]]\n"
     ]
    }
   ],
   "source": [
    "\n"
   ]
  }
 ],
 "metadata": {
  "kernelspec": {
   "display_name": "Python 3",
   "language": "python",
   "name": "python3"
  },
  "language_info": {
   "codemirror_mode": {
    "name": "ipython",
    "version": 3
   },
   "file_extension": ".py",
   "mimetype": "text/x-python",
   "name": "python",
   "nbconvert_exporter": "python",
   "pygments_lexer": "ipython3",
   "version": "3.9.6"
  },
  "orig_nbformat": 4
 },
 "nbformat": 4,
 "nbformat_minor": 2
}
